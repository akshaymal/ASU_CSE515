{
 "cells": [
  {
   "cell_type": "markdown",
   "id": "a154f51e-f303-4490-bf35-f2d96c7c0c15",
   "metadata": {},
   "source": [
    "# Task 1\n",
    "\n",
    "In this notebook, the following has been done:\n",
    "1. Retrieving an image based on ImageID\n",
    "2. Computation of Color moments, CM8x8 for given imageID\n",
    "3. Computation of Extended Local binary patterns, ELBP for given imageID\n",
    "4. Histograms of oriented gradients, HOG for given imageID"
   ]
  },
  {
   "cell_type": "markdown",
   "id": "f08c6efb-af4f-456c-bb46-dc9ebd2c90db",
   "metadata": {},
   "source": [
    "***"
   ]
  },
  {
   "cell_type": "markdown",
   "id": "5396b8fe-a390-4894-88f5-47384f57fab5",
   "metadata": {},
   "source": [
    "### Inputs Required"
   ]
  },
  {
   "cell_type": "code",
   "execution_count": 1,
   "id": "88fe1b4c-a6ab-4295-9573-9232948db21c",
   "metadata": {},
   "outputs": [],
   "source": [
    "IMAGE_ID = \"0_0\" # In the format: <subjectId, imageId>\n",
    "MODEL = \"hog\" # [\"cm8x8\", \"elbp\", \"hog\"]"
   ]
  },
  {
   "cell_type": "markdown",
   "id": "26dfed9f-0e6d-49c3-8302-c41854f1b859",
   "metadata": {},
   "source": [
    "***"
   ]
  },
  {
   "cell_type": "code",
   "execution_count": 2,
   "id": "f945700b-43e2-431a-bcd8-96f4135b64b0",
   "metadata": {},
   "outputs": [],
   "source": [
    "# Imports\n",
    "\n",
    "import os\n",
    "import sys\n",
    "import scipy\n",
    "import Utils\n",
    "import skimage\n",
    "import numpy as np\n",
    "import matplotlib.pyplot as plt\n",
    "\n",
    "from PIL import Image\n",
    "from pathlib import Path\n",
    "from skimage.feature import hog, local_binary_pattern"
   ]
  },
  {
   "cell_type": "code",
   "execution_count": 3,
   "id": "f34c2965-53a9-4c8e-8cf2-fd45f480fd15",
   "metadata": {},
   "outputs": [],
   "source": [
    "# Global Constants\n",
    "\n",
    "CURRENT_PATH = Path(os.getcwd())\n",
    "IMGS_DIR = CURRENT_PATH.parent / \"Outputs\" / \"Task0\" / \"Images\"\n",
    "TARGET_DIR = CURRENT_PATH.parent / \"Outputs\" / \"Task0\" / \"Target\"\n",
    "\n",
    "WRITE_DIR =  CURRENT_PATH.parent / \"Outputs\" / \"Task1\" "
   ]
  },
  {
   "cell_type": "code",
   "execution_count": 4,
   "id": "e9395831-7b85-4631-b71d-762c3299d26a",
   "metadata": {},
   "outputs": [],
   "source": [
    "# Create WRITE_DIR if it does not exist\n",
    "\n",
    "WRITE_DIR.mkdir(parents=True, exist_ok=True)"
   ]
  },
  {
   "cell_type": "markdown",
   "id": "70d1716b-6ff9-448b-b385-e746a7cd3b74",
   "metadata": {
    "tags": []
   },
   "source": [
    "## 1.  Retrieving an image based on Image ID"
   ]
  },
  {
   "cell_type": "code",
   "execution_count": 5,
   "id": "c01f2dba-837b-49e5-8ab2-6e2ffd3a334e",
   "metadata": {},
   "outputs": [
    {
     "data": {
      "image/png": "[encoded data removed]",
      "text/plain": [
       "<Figure size 432x288 with 1 Axes>"
      ]
     },
     "metadata": {},
     "output_type": "display_data"
    }
   ],
   "source": [
    "# Retrieving Image\n",
    "\n",
    "file_name = IMAGE_ID + \".tif\"\n",
    "image_path = IMGS_DIR / file_name\n",
    "image = Image.open(str(image_path))\n",
    "np_image = np.array(image)\n",
    "\n",
    "# Plotting Image\n",
    "plt.imshow(np_image, cmap='gray')\n",
    "plt.title(\"Image of Interest\")\n",
    "plt.xticks([])\n",
    "plt.yticks([])\n",
    "plt.show()"
   ]
  },
  {
   "cell_type": "markdown",
   "id": "7bc959a9-7c48-4ba0-9f47-542acd3e5d5b",
   "metadata": {},
   "source": [
    "## 2. Computation of Color moments, CM8x8"
   ]
  },
  {
   "cell_type": "code",
   "execution_count": 6,
   "id": "a3212536-d209-403f-b4da-1e5bb30bb793",
   "metadata": {
    "tags": []
   },
   "outputs": [],
   "source": [
    "if MODEL == \"cm8x8\":\n",
    "    # Creation on 64 windows (8x8) from original image\n",
    "    windows = Utils.create_windows(np_image)\n",
    "\n",
    "    # Calculating mean, std. deviation and skewness for each 8x8 window\n",
    "    color_moments = np.array(Utils.calculate_color_moments(windows))\n",
    "    color_moments_reshaped = np.reshape(color_moments, (3,64))\n",
    "\n",
    "    fig, ax = plt.subplots(nrows=8, ncols=8, figsize=(17, 17))\n",
    "    ax = ax.flatten()\n",
    "\n",
    "    for index in range(0,len(windows)):\n",
    "        # Extracting window\n",
    "        window = windows[index]\n",
    "\n",
    "        # Plotting results in a figure\n",
    "        ax[index].imshow(window, cmap='gray')\n",
    "        ax[index].set_xticks([])\n",
    "        ax[index].set_yticks([])\n",
    "        ax[index].set_title(\"Mean: {:.2f}\\nStd: {:.2f}\\nSkew: {:.2f}\".format(color_moments_reshaped[0][index],color_moments_reshaped[1][index],color_moments_reshaped[2][index]), fontsize=8.5)\n",
    "        plt.subplots_adjust(left=None, bottom=None, right=None, top=None, wspace=None, hspace=0.45)\n",
    "    \n",
    "    # Write path for color moments\n",
    "    color_moments_write_path = WRITE_DIR / \"color_moments.csv\"\n",
    "    color_moments_img_write_path = WRITE_DIR / \"color_moments.png\"\n",
    "    \n",
    "    # Writing results into a file\n",
    "    Utils.write_color_moments(data=color_moments, path=color_moments_write_path)\n",
    "    fig.savefig(color_moments_img_write_path)"
   ]
  },
  {
   "cell_type": "markdown",
   "id": "973fee09-833f-44ea-aeb5-3b5366e11bc1",
   "metadata": {},
   "source": [
    "## 3. Computation of Extended Local binary patterns, ELBP for given imageID"
   ]
  },
  {
   "cell_type": "code",
   "execution_count": 7,
   "id": "30510e78-cd07-44d2-8f51-225a0fca6360",
   "metadata": {},
   "outputs": [],
   "source": [
    "if MODEL == \"elbp\":\n",
    "\n",
    "    # Calculation of ELBP for the image of interest\n",
    "    points = 8\n",
    "    radius = 1\n",
    "    method = 'ror'\n",
    "    elbp = local_binary_pattern(image, P=points, R=radius, method=method)\n",
    "    bins, bining_results = Utils.calculate_elbp(image=np_image, points=points, radius=radius, method=method)\n",
    "    \n",
    "    # Plotting bining results of ELBP\n",
    "\n",
    "    plt.figure(figsize=(15,7))\n",
    "    plt.bar(bining_results[1][1:], bining_results[0] ,width=2)\n",
    "    plt.xticks(np.arange(0, 270, 10))\n",
    "    plt.xlabel(\"ELBP Values\")\n",
    "    plt.ylabel(\"Frequency\")\n",
    "    plt.title(\"Plotting ELBP Feature Descriptor\")\n",
    "\n",
    "    elbp_img_write_path = WRITE_DIR / \"elbp.png\"\n",
    "    plt.gcf().savefig(elbp_img_write_path)\n",
    "    \n",
    "    # Write path for ELBP\n",
    "    elbp_write_path = WRITE_DIR / \"elbp.csv\"\n",
    "    # Writing results into a file# Writing results into a file\n",
    "    Utils.write_elbp(bining_results=bining_results, path=elbp_write_path)"
   ]
  },
  {
   "cell_type": "markdown",
   "id": "e773f9a6-081d-4fb1-82eb-8382b0ff5dfe",
   "metadata": {},
   "source": [
    "# 4. Histograms of oriented gradients, HOG for given imageID"
   ]
  },
  {
   "cell_type": "code",
   "execution_count": 8,
   "id": "12e41b64-444f-4c29-93c6-217ca56001fe",
   "metadata": {},
   "outputs": [
    {
     "data": {
      "image/png": "[encoded data removed]",
      "text/plain": [
       "<Figure size 432x288 with 1 Axes>"
      ]
     },
     "metadata": {
      "needs_background": "light"
     },
     "output_type": "display_data"
    }
   ],
   "source": [
    "if MODEL == \"hog\":\n",
    "    # Calculating hog feature descriptor\n",
    "    fd, hog_image = Utils.calculate_hog(np_image, orientations=9, pixels_per_cell=(4, 4), cells_per_block=(2,2))\n",
    "    \n",
    "    # Plot HOG image\n",
    "    plt.imshow(hog_image)\n",
    "    \n",
    "    # Save HOG image\n",
    "    hog_img_write_path = WRITE_DIR / \"hog.png\"\n",
    "    plt.gcf().savefig(hog_img_write_path)\n",
    "    \n",
    "    # Write path for HOG\n",
    "    hog_write_path = WRITE_DIR / \"hog.csv\"\n",
    "    # Writing results into a file\n",
    "    Utils.write_hog(path=hog_write_path, feature_values=fd)"
   ]
  },
  {
   "cell_type": "code",
   "execution_count": null,
   "id": "e1b9a8a5-3a5b-402c-b873-2e16c599d28f",
   "metadata": {},
   "outputs": [],
   "source": []
  }
 ],
 "metadata": {
  "kernelspec": {
   "display_name": "Python 3",
   "language": "python",
   "name": "python3"
  },
  "language_info": {
   "codemirror_mode": {
    "name": "ipython",
    "version": 3
   },
   "file_extension": ".py",
   "mimetype": "text/x-python",
   "name": "python",
   "nbconvert_exporter": "python",
   "pygments_lexer": "ipython3",
   "version": "3.8.8"
  }
 },
 "nbformat": 4,
 "nbformat_minor": 5
}
