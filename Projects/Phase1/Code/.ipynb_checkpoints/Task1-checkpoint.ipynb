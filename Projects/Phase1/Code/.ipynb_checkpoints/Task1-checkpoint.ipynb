{
 "cells": [
  {
   "cell_type": "code",
   "execution_count": 1,
   "id": "f945700b-43e2-431a-bcd8-96f4135b64b0",
   "metadata": {},
   "outputs": [],
   "source": [
    "# Imports\n",
    "\n",
    "import os\n",
    "import numpy as np\n",
    "import matplotlib.pyplot as plt\n",
    "\n",
    "from sklearn.datasets import fetch_olivetti_faces"
   ]
  },
  {
   "cell_type": "code",
   "execution_count": 2,
   "id": "88fe1b4c-a6ab-4295-9573-9232948db21c",
   "metadata": {},
   "outputs": [
    {
     "name": "stdout",
     "output_type": "stream",
     "text": [
      "Type of data: <class 'sklearn.utils.Bunch'>\n"
     ]
    }
   ],
   "source": [
    "data = fetch_olivetti_faces(data_home=None, shuffle=False, random_state=0, download_if_missing=True)\n",
    "print (\"Type of data: \" + str(type(data)))"
   ]
  },
  {
   "cell_type": "code",
   "execution_count": 3,
   "id": "c01f2dba-837b-49e5-8ab2-6e2ffd3a334e",
   "metadata": {},
   "outputs": [],
   "source": [
    "images = data.images\n",
    "target = data.target"
   ]
  },
  {
   "cell_type": "code",
   "execution_count": null,
   "id": "f86e6ed1-cfb7-4d44-b2da-13ddd09e2a47",
   "metadata": {},
   "outputs": [],
   "source": []
  }
 ],
 "metadata": {
  "kernelspec": {
   "display_name": "Python 3",
   "language": "python",
   "name": "python3"
  },
  "language_info": {
   "codemirror_mode": {
    "name": "ipython",
    "version": 3
   },
   "file_extension": ".py",
   "mimetype": "text/x-python",
   "name": "python",
   "nbconvert_exporter": "python",
   "pygments_lexer": "ipython3",
   "version": "3.8.8"
  }
 },
 "nbformat": 4,
 "nbformat_minor": 5
}
