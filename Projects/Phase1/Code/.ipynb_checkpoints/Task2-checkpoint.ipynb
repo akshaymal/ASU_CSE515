{
 "cells": [
  {
   "cell_type": "markdown",
   "id": "f35a5d5c-b213-4144-98cf-804941e116c2",
   "metadata": {},
   "source": [
    "# Task 2\n",
    "\n",
    "In this notebook, the following has been done:\n",
    "1. Get all images from a folder\n",
    "2. For each image, computation of Color moments.\n",
    "3. For each image, computation of Extended Local binary patterns\n",
    "4. For each image, computation of Histograms of oriented gradients"
   ]
  },
  {
   "cell_type": "markdown",
   "id": "c71745df-108c-4005-bc82-850499a14db4",
   "metadata": {},
   "source": [
    "***"
   ]
  },
  {
   "cell_type": "code",
   "execution_count": 1,
   "id": "3f8964e2-f919-4643-bc14-16dfcd27af78",
   "metadata": {},
   "outputs": [],
   "source": [
    "# Imports\n",
    "\n",
    "import os\n",
    "import csv\n",
    "import scipy\n",
    "import Utils\n",
    "import numpy as np\n",
    "import matplotlib.pyplot as plt\n",
    "\n",
    "from PIL import Image\n",
    "from pathlib import Path\n",
    "from skimage.feature import hog, local_binary_pattern"
   ]
  },
  {
   "cell_type": "markdown",
   "id": "078e703f-bd3e-4af6-8423-2859e9275871",
   "metadata": {},
   "source": [
    "***"
   ]
  },
  {
   "cell_type": "markdown",
   "id": "072fcbde-de73-4774-bc59-75d8f769628a",
   "metadata": {},
   "source": [
    "### Input Parameters"
   ]
  },
  {
   "cell_type": "code",
   "execution_count": 2,
   "id": "8747fefc-d733-4816-9866-0f27d4e2f4f3",
   "metadata": {},
   "outputs": [],
   "source": [
    "# Global Constants\n",
    "\n",
    "CURRENT_PATH = Path(os.getcwd())\n",
    "IMGS_DIR = CURRENT_PATH.parent / \"Outputs\" / \"test_imgage_sets\" / \"set3\"\n",
    "\n",
    "WRITE_DIR =  CURRENT_PATH.parent / \"Outputs\" / \"Task2\" / \"set3\""
   ]
  },
  {
   "cell_type": "markdown",
   "id": "80ac172e-0839-43d5-9096-1ca071beafa0",
   "metadata": {},
   "source": [
    "***"
   ]
  },
  {
   "cell_type": "markdown",
   "id": "7054a972-bf41-4b1e-8f31-da5ad3511dcc",
   "metadata": {},
   "source": [
    "### Main Program"
   ]
  },
  {
   "cell_type": "code",
   "execution_count": 3,
   "id": "cc999161-29bc-4ee3-ab66-317eb50446a0",
   "metadata": {},
   "outputs": [],
   "source": [
    "img_file_names = [f for f in os.listdir(IMGS_DIR) if os.path.isfile(os.path.join(IMGS_DIR, f)) and (\".png\" in str(os.path.join(IMGS_DIR, f)) or \".tif\" in str(os.path.join(IMGS_DIR, f)))]\n",
    "img_file_names.sort()\n",
    "\n",
    "for file_name in img_file_names:\n",
    "    \n",
    "    # Preparing all paths related to the file\n",
    "    file_base_name = os.path.splitext(file_name)[0]\n",
    "    file_path = IMGS_DIR / file_name\n",
    "    write_dir = WRITE_DIR / file_base_name\n",
    "    write_dir.mkdir(parents=True, exist_ok=True)\n",
    "    write_color_moments_path = WRITE_DIR / file_base_name / \"color_moments.csv\"\n",
    "    write_elbp_path = WRITE_DIR / file_base_name / \"elbp.csv\"\n",
    "    write_hog_path = WRITE_DIR / file_base_name / \"hog.csv\"\n",
    "    \n",
    "    # Extracting the image in an nparray for analysis\n",
    "    img = Image.open(str(file_path))\n",
    "    np_img = np.array(img)\n",
    "    \n",
    "    # Calculating and storing color moments of an image\n",
    "    windows = Utils.create_windows(np_img)\n",
    "    color_moments = np.array(Utils.calculate_color_moments(windows))\n",
    "    Utils.write_color_moments(data=color_moments, path=write_color_moments_path)\n",
    "    \n",
    "    # Calculating and storing ELBP of an image\n",
    "    points = 8\n",
    "    radius = 1\n",
    "    method = 'ror'\n",
    "    bins, bining_results = Utils.calculate_elbp(image=np_img, points=points, radius=radius, method=method)\n",
    "    Utils.write_elbp(bining_results=bining_results, path=write_elbp_path)\n",
    "\n",
    "    # Calculating and storing HOG of an image\n",
    "    features, hog_image = Utils.calculate_hog(np_img, orientations=9, pixels_per_cell=(4, 4), cells_per_block=(2, 2))\n",
    "    Utils.write_hog(path=write_hog_path, feature_values=features)"
   ]
  },
  {
   "cell_type": "code",
   "execution_count": null,
   "id": "04bd6a8b-25e5-40dc-ad1a-8d2ab709284b",
   "metadata": {},
   "outputs": [],
   "source": []
  }
 ],
 "metadata": {
  "kernelspec": {
   "display_name": "Python 3",
   "language": "python",
   "name": "python3"
  },
  "language_info": {
   "codemirror_mode": {
    "name": "ipython",
    "version": 3
   },
   "file_extension": ".py",
   "mimetype": "text/x-python",
   "name": "python",
   "nbconvert_exporter": "python",
   "pygments_lexer": "ipython3",
   "version": "3.8.8"
  }
 },
 "nbformat": 4,
 "nbformat_minor": 5
}
