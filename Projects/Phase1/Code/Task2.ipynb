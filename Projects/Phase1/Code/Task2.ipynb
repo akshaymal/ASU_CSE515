{
 "cells": [
  {
   "cell_type": "markdown",
   "id": "f35a5d5c-b213-4144-98cf-804941e116c2",
   "metadata": {},
   "source": [
    "# Task 2\n",
    "\n",
    "In this notebook, the following has been done:\n",
    "1. Get all images from a folder\n",
    "2. For each image, computation of Color moments.\n",
    "3. For each image, computation of Extended Local binary patterns\n",
    "4. For each image, computation of Histograms of oriented gradients"
   ]
  },
  {
   "cell_type": "code",
   "execution_count": 49,
   "id": "3f8964e2-f919-4643-bc14-16dfcd27af78",
   "metadata": {},
   "outputs": [],
   "source": [
    "# Imports\n",
    "\n",
    "import os\n",
    "import csv\n",
    "import scipy\n",
    "import numpy as np\n",
    "import matplotlib.pyplot as plt\n",
    "\n",
    "from PIL import Image\n",
    "from pathlib import Path\n",
    "from skimage.feature import hog, local_binary_pattern"
   ]
  },
  {
   "cell_type": "code",
   "execution_count": 50,
   "id": "8747fefc-d733-4816-9866-0f27d4e2f4f3",
   "metadata": {},
   "outputs": [],
   "source": [
    "# Global Constants\n",
    "\n",
    "CURRENT_PATH = Path(os.getcwd())\n",
    "IMGS_DIR = CURRENT_PATH.parent / \"Outputs\" / \"Task0\" / \"Images\"\n",
    "\n",
    "WRITE_DIR =  CURRENT_PATH.parent / \"Outputs\" / \"Task2\" "
   ]
  },
  {
   "cell_type": "markdown",
   "id": "cb8f0224-8bc5-4cfb-aeca-781122d32383",
   "metadata": {},
   "source": [
    "#### Cell contains helper functions for Color Moments"
   ]
  },
  {
   "cell_type": "code",
   "execution_count": 54,
   "id": "895c3517-3031-43b0-b80a-f210d80e9de1",
   "metadata": {},
   "outputs": [],
   "source": [
    "def create_windows(np_image):\n",
    "    # Creating windows over the image\n",
    "    windows = []\n",
    "    for x in range(0,64,8):\n",
    "        for y in range(0,64,8):\n",
    "            window = np_image[x:x+8, y:y+8]\n",
    "            windows.append(window)    \n",
    "    return np.array(windows)\n",
    "\n",
    "def calculate_color_moments(windows=None):\n",
    "    \n",
    "    # Exceptions\n",
    "    if (windows is None):\n",
    "        raise Exception('No image passed as parameter')\n",
    "    \n",
    "    # Calculating color moments over windows\n",
    "    means = []\n",
    "    stds = []\n",
    "    skews = []\n",
    "    for index in range(0,len(windows)):\n",
    "        # Extracting window\n",
    "        window = windows[index]\n",
    "        flatten_window = window.flatten()\n",
    "    \n",
    "        # Calculating mean, std deviation and skewness for window\n",
    "        mean = np.mean(flatten_window)\n",
    "        std = np.std(flatten_window)\n",
    "        skew = scipy.stats.skew(flatten_window)\n",
    "    \n",
    "        # Appending results of each window to a list\n",
    "        means.append(mean)\n",
    "        stds.append(std)\n",
    "        skews.append(skew)\n",
    "        \n",
    "    return means, stds, skews\n",
    "\n",
    "def write_color_moments(means, stds, skews, windows, path=None):\n",
    "    if path is None:\n",
    "        raise Exception(\"No write path for color moments\")\n",
    "    \n",
    "    with open(path, 'w') as csvfile: \n",
    "        csvwriter = csv.writer(csvfile) \n",
    "        csvwriter.writerow([\"WindowID\", \"Mean\", \"Std. Deviation\", \"Skewness\"])\n",
    "    \n",
    "        for window_id, mean, std, skew in zip(range(0, len(windows)), means, stds, skews):\n",
    "            csvwriter.writerow([window_id, mean, std, skew])"
   ]
  },
  {
   "cell_type": "markdown",
   "id": "7a69e7ef-23c2-47ec-b6a0-cbed78d6fc23",
   "metadata": {},
   "source": [
    "#### Cell contains helper functions for ELBP"
   ]
  },
  {
   "cell_type": "code",
   "execution_count": 55,
   "id": "5b93616e-e75d-4b9a-9bb4-8491c2c24cac",
   "metadata": {},
   "outputs": [],
   "source": [
    "def calculate_elbp(np_image, points=None, radius=None, method=None):\n",
    "    if points is None or radius is None or method is None:\n",
    "        raise Exception(\"No points / radius / method\")\n",
    "        \n",
    "    elbp = local_binary_pattern(np_image, P=points, R=radius, method=method)\n",
    "\n",
    "    # Bining the results of ELBP\n",
    "    bins = 2**points\n",
    "    bining_results = np.histogram(elbp, bins=bins, range=(0.0, float(bins)))\n",
    "    \n",
    "    return bins, bining_results\n",
    "\n",
    "def write_elbp(bins, bining_results, path=None):\n",
    "    if path is None:\n",
    "        raise Exception(\"No write path for color moments\")\n",
    "        \n",
    "    # Writing results into a file\n",
    "    with open(path, 'w') as csvfile: \n",
    "        csvwriter = csv.writer(csvfile) \n",
    "        csvwriter.writerow([\"ELBP Value\", \"Frequency\"])\n",
    "\n",
    "        for elbp_value, frequency in zip(range(0, bins), bining_results[0]):\n",
    "            csvwriter.writerow([elbp_value, frequency])"
   ]
  },
  {
   "cell_type": "markdown",
   "id": "1e19bf51-50a7-4a7f-ae53-e9e93843fdca",
   "metadata": {},
   "source": [
    "#### Cell contains helper functions for HOG"
   ]
  },
  {
   "cell_type": "code",
   "execution_count": 60,
   "id": "77626fb4-22f5-41c0-8dcf-adfa2bfc3d29",
   "metadata": {},
   "outputs": [],
   "source": [
    "def calculate_hog(np_image, orientations, pixels_per_cell, cells_per_block):\n",
    "    if (np_image is None or orientations is None or pixels_per_cell is None or cells_per_block is None):\n",
    "        raise Exception(\"No orientations / pixels_per_cell / cells_per_block\")\n",
    "        \n",
    "    fd, hog_image = hog(np_image, orientations=orientations, pixels_per_cell=pixels_per_cell, cells_per_block=cells_per_block, visualize=True)\n",
    "    return fd, hog_image\n",
    "\n",
    "def write_hog(path, feature_values):\n",
    "    with open(path, 'w') as csvfile: \n",
    "        csvwriter = csv.writer(csvfile) \n",
    "        csvwriter.writerow([\"HOG Feature Vector\"])\n",
    "    \n",
    "        for hog_value in feature_values:\n",
    "            csvwriter.writerow([hog_value])"
   ]
  },
  {
   "cell_type": "markdown",
   "id": "7054a972-bf41-4b1e-8f31-da5ad3511dcc",
   "metadata": {},
   "source": [
    "### Main Program"
   ]
  },
  {
   "cell_type": "code",
   "execution_count": 61,
   "id": "cc999161-29bc-4ee3-ab66-317eb50446a0",
   "metadata": {},
   "outputs": [],
   "source": [
    "img_file_names = [f for f in os.listdir(IMGS_DIR) if os.path.isfile(os.path.join(IMGS_DIR, f))]\n",
    "img_file_names.sort()\n",
    "\n",
    "for file_name in img_file_names:\n",
    "    \n",
    "    # Preparing all paths related to the file\n",
    "    file_base_name = os.path.splitext(file_name)[0]\n",
    "    file_path = IMGS_DIR / img_file_name\n",
    "    write_dir = WRITE_DIR / file_base_name\n",
    "    write_dir.mkdir(parents=True, exist_ok=True)\n",
    "    write_color_moments_path = WRITE_DIR / file_base_name / \"color_moments.csv\"\n",
    "    write_elbp_path = WRITE_DIR / file_base_name / \"elbp.csv\"\n",
    "    write_hog_path = WRITE_DIR / file_base_name / \"hog.csv\"\n",
    "    \n",
    "    # Extracting the image in an nparray for analysis\n",
    "    img = Image.open(str(image_path))\n",
    "    np_img = np.array(image)\n",
    "    \n",
    "    # Calculating Color Moments of an Image\n",
    "    windows = create_windows(np_image)\n",
    "    means, stds, skews = calculate_color_moments(windows)\n",
    "    write_color_moments(means, stds, skews, windows, write_color_moments_path)\n",
    "\n",
    "    # Calculating ELBP of an Image\n",
    "    features, _ = calculate_hog(np_image, orientations=9, pixels_per_cell=(4, 4), cells_per_block=(2, 2))\n",
    "    write_hog(write_hog_path, features)"
   ]
  }
 ],
 "metadata": {
  "kernelspec": {
   "display_name": "Python 3",
   "language": "python",
   "name": "python3"
  },
  "language_info": {
   "codemirror_mode": {
    "name": "ipython",
    "version": 3
   },
   "file_extension": ".py",
   "mimetype": "text/x-python",
   "name": "python",
   "nbconvert_exporter": "python",
   "pygments_lexer": "ipython3",
   "version": "3.8.8"
  }
 },
 "nbformat": 4,
 "nbformat_minor": 5
}
